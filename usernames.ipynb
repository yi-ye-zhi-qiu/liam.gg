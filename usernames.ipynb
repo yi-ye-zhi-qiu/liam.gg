{
 "cells": [
  {
   "cell_type": "code",
   "execution_count": 2,
   "id": "4e508686",
   "metadata": {},
   "outputs": [],
   "source": [
    "import requests\n",
    "from bs4 import BeautifulSoup\n",
    "from datetime import date\n",
    "import time\n",
    "import ast\n",
    "import os\n",
    "import json\n",
    "import pandas as pd"
   ]
  },
  {
   "cell_type": "markdown",
   "id": "aca20576",
   "metadata": {},
   "source": [
    "## Config"
   ]
  },
  {
   "cell_type": "code",
   "execution_count": 2,
   "id": "b84af7a5",
   "metadata": {},
   "outputs": [],
   "source": [
    "api_key = os.getenv('RIOT_API_KEY')"
   ]
  },
  {
   "cell_type": "code",
   "execution_count": 3,
   "id": "6952d375",
   "metadata": {},
   "outputs": [],
   "source": [
    "tier_config = {\n",
    "             'CHALLENGER': ['I'],\n",
    "             'GRANDMASTER': ['I'],\n",
    "             'MASTER': ['I'],\n",
    "             'DIAMOND': ['I','II','III','IV'],\n",
    "             'PLATINUM': ['I','II','III','IV'],            \n",
    "             'GOLD': ['I','II','III','IV'],\n",
    "             'SILVER': ['I','II','III','IV'],\n",
    "             'IRON': ['I','II','III','IV'],\n",
    "            }"
   ]
  },
  {
   "cell_type": "markdown",
   "id": "9cf74832",
   "metadata": {},
   "source": [
    "## API Endpoint"
   ]
  },
  {
   "cell_type": "code",
   "execution_count": 4,
   "id": "f2da715d",
   "metadata": {},
   "outputs": [],
   "source": [
    "def build_api_endpoint(tier, division, api_key, page=1,  region='na1', queue='RANKED_SOLO_5x5'):\n",
    "    \n",
    "    \"\"\"Constructs the Riot Games league v4 entries endpoint for a tier, division\n",
    "       Note that API endpoints differ for challenger, master and grandmaster tiers\n",
    "    \"\"\"\n",
    "    \n",
    "    assert api_key != '', \"No API key configured\"\n",
    "    \n",
    "    base_url = 'https://{}.api.riotgames.com/lol/league/v4/'.format(region)\n",
    "\n",
    "    if tier not in ['CHALLENGER', 'GRANDMASTER', 'MASTER']:\n",
    "        api_substring = f'entries/{queue}/{tier}/{division}?page={page}'\n",
    "    \n",
    "    else:\n",
    "        #Change to lowercase\n",
    "        tier = tier.lower() \n",
    "        #Populate individualized api endpoint\n",
    "        api_substring = f'{tier}leagues/by-queue/{queue}?page={page}'\n",
    "\n",
    "    api_url = base_url + api_substring\n",
    "\n",
    "    return api_url"
   ]
  },
  {
   "cell_type": "code",
   "execution_count": 5,
   "id": "e553eba0",
   "metadata": {},
   "outputs": [],
   "source": [
    "headers = {\n",
    "            \"User-Agent\": \"Mozilla/5.0 (Windows NT 10.0; Win64; x64) AppleWebKit/537.36 (KHTML, like Gecko) Chrome/93.0.4577.82 Safari/537.36\",\n",
    "            \"Accept-Language\": \"en-US,en;q=0.9\",\n",
    "            \"Accept-Charset\": \"application/x-www-form-urlencoded; charset=UTF-8\",\n",
    "            \"X-Riot-Token\": api_key\n",
    "          }"
   ]
  },
  {
   "cell_type": "markdown",
   "id": "9634e8e5",
   "metadata": {},
   "source": [
    "## Scrape data"
   ]
  },
  {
   "cell_type": "markdown",
   "id": "4222ab66",
   "metadata": {},
   "source": [
    "10-20 min"
   ]
  },
  {
   "cell_type": "code",
   "execution_count": 6,
   "id": "7912a479",
   "metadata": {
    "scrolled": true
   },
   "outputs": [
    {
     "name": "stdout",
     "output_type": "stream",
     "text": [
      "Scraped 50 summoner name info for CHALLENGER (on division I)\n",
      "Scraped 50 summoner name info for GRANDMASTER (on division I)\n",
      "Scraped 50 summoner name info for MASTER (on division I)\n",
      "Scraped 2050 summoner name info for DIAMOND (on division I)\n",
      "Scraped 4100 summoner name info for DIAMOND (on division II)\n",
      "Scraped 6150 summoner name info for DIAMOND (on division III)\n",
      "Scraped 8200 summoner name info for DIAMOND (on division IV)\n",
      "Scraped 2050 summoner name info for PLATINUM (on division I)\n",
      "Scraped 4100 summoner name info for PLATINUM (on division II)\n",
      "Scraped 6150 summoner name info for PLATINUM (on division III)\n",
      "Scraped 8200 summoner name info for PLATINUM (on division IV)\n",
      "Scraped 2050 summoner name info for GOLD (on division I)\n",
      "Scraped 4100 summoner name info for GOLD (on division II)\n",
      "Scraped 6150 summoner name info for GOLD (on division III)\n",
      "Scraped 8200 summoner name info for GOLD (on division IV)\n",
      "Scraped 2050 summoner name info for SILVER (on division I)\n",
      "Scraped 4100 summoner name info for SILVER (on division II)\n",
      "Scraped 6150 summoner name info for SILVER (on division III)\n",
      "Scraped 8200 summoner name info for SILVER (on division IV)\n",
      "Scraped 2050 summoner name info for IRON (on division I)\n",
      "Scraped 4100 summoner name info for IRON (on division II)\n",
      "Scraped 6150 summoner name info for IRON (on division III)\n",
      "Scraped 8200 summoner name info for IRON (on division IV)\n"
     ]
    }
   ],
   "source": [
    "for tier in tier_config: \n",
    "    \n",
    "    conf = tier_config[tier] \n",
    "    dfs = []\n",
    "    scraped =0\n",
    "    \n",
    "    for division in conf:\n",
    "        \n",
    "        #10 pages\n",
    "        for p in range(1, 11):\n",
    "            \n",
    "            api = build_api_endpoint(tier=tier, division=division, api_key=api_key, page=p)\n",
    "            r = requests.get(api, headers=headers)\n",
    "    \n",
    "            if r.ok:\n",
    "            \n",
    "                d = json.loads(r.text)\n",
    "                scraped += len(d)\n",
    "                dfs.append(pd.DataFrame(d))\n",
    "\n",
    "\n",
    "            else:\n",
    "                print(r.status_code, r.text)\n",
    "                \n",
    "        print(f'Scraped {scraped} summoner name info for {tier} (on division {division})')\n",
    "        time.sleep(60)\n",
    "    \n",
    "    frame = pd.concat(dfs)\n",
    "\n",
    "    # setting up filepath \n",
    "    data_folder = 'data/'\n",
    "    base_filename = 'api-{}-{}'.format(tier,division)\n",
    "    timestamp = str(date.today()).replace('-','')\n",
    "    ext = '.csv'\n",
    "    filepath = '_'.join([data_folder+base_filename,timestamp+ext])\n",
    "    \n",
    "    frame.to_csv(filepath,index=False,header=True)"
   ]
  },
  {
   "cell_type": "markdown",
   "id": "e14af606",
   "metadata": {},
   "source": [
    "## Concatenate"
   ]
  },
  {
   "cell_type": "code",
   "execution_count": 3,
   "id": "1229772f",
   "metadata": {},
   "outputs": [
    {
     "data": {
      "text/plain": [
       "'C:\\\\Users\\\\yeqiu\\\\Desktop\\\\opgg'"
      ]
     },
     "execution_count": 3,
     "metadata": {},
     "output_type": "execute_result"
    }
   ],
   "source": [
    "os.path.abspath('')"
   ]
  },
  {
   "cell_type": "code",
   "execution_count": 4,
   "id": "df233a0d",
   "metadata": {},
   "outputs": [],
   "source": [
    "fldr = os.path.join(os.path.abspath(''), 'data/')"
   ]
  },
  {
   "cell_type": "code",
   "execution_count": 5,
   "id": "2410e6e0",
   "metadata": {},
   "outputs": [
    {
     "name": "stdout",
     "output_type": "stream",
     "text": [
      "Reading C:\\Users\\yeqiu\\Desktop\\opgg\\data/api-CHALLENGER-I_20210923.csv of size 0.97 MB\n",
      "Reading C:\\Users\\yeqiu\\Desktop\\opgg\\data/api-DIAMOND-IV_20210923.csv of size 1.33 MB\n",
      "Reading C:\\Users\\yeqiu\\Desktop\\opgg\\data/api-GOLD-IV_20210923.csv of size 1.29 MB\n",
      "Reading C:\\Users\\yeqiu\\Desktop\\opgg\\data/api-GRANDMASTER-I_20210923.csv of size 2.26 MB\n",
      "Reading C:\\Users\\yeqiu\\Desktop\\opgg\\data/api-IRON-IV_20210923.csv of size 1.3 MB\n",
      "Reading C:\\Users\\yeqiu\\Desktop\\opgg\\data/api-MASTER-I_20210923.csv of size 8.41 MB\n",
      "Reading C:\\Users\\yeqiu\\Desktop\\opgg\\data/api-PLATINUM-IV_20210923.csv of size 1.33 MB\n",
      "Reading C:\\Users\\yeqiu\\Desktop\\opgg\\data/api-SILVER-IV_20210923.csv of size 1.31 MB\n"
     ]
    }
   ],
   "source": [
    "usernames = []\n",
    "\n",
    "for f in os.listdir(fldr):\n",
    "    \n",
    "    fp = os.path.join(fldr,f)\n",
    "    \n",
    "    assert fp.endswith('csv'), 'Expected csv file'\n",
    "    \n",
    "    print(\"Reading {} of size {} MB\".format(fp, round(os.path.getsize(fp)*10e-7 ,2) ))\n",
    "    \n",
    "    #Challenger, master and grandmaster\n",
    "    if any(i in fp for i in ['CHALLENGER', 'MASTER', 'GRANDMASTER']):\n",
    "        \n",
    "        df = pd.read_csv(fp)\n",
    "        \n",
    "        #Str dict -> dict \n",
    "        df.entries = df.entries.map(lambda x: ast.literal_eval(x))\n",
    "        #Normalize on entries \n",
    "        df = pd.concat([df.drop(\n",
    "                                    ['entries'], axis=1\n",
    "                                ),\n",
    "                        pd.json_normalize(df.entries)\n",
    "                       ], axis=1\n",
    "                      )\n",
    "\n",
    "        df = df.rename(columns={'queueType': 'queue'})\n",
    "        \n",
    "    else:\n",
    "\n",
    "        df = pd.read_csv(fp)\n",
    "    \n",
    "    usernames.append(df)"
   ]
  },
  {
   "cell_type": "code",
   "execution_count": 6,
   "id": "e5009c1d",
   "metadata": {},
   "outputs": [],
   "source": [
    "frame = pd.concat(usernames)"
   ]
  },
  {
   "cell_type": "code",
   "execution_count": 7,
   "id": "a3d111c4",
   "metadata": {},
   "outputs": [
    {
     "data": {
      "text/plain": [
       "(77380, 16)"
      ]
     },
     "execution_count": 7,
     "metadata": {},
     "output_type": "execute_result"
    }
   ],
   "source": [
    "frame.shape"
   ]
  },
  {
   "cell_type": "code",
   "execution_count": 8,
   "id": "e2bc2584",
   "metadata": {},
   "outputs": [
    {
     "data": {
      "text/plain": [
       "MASTER         26380\n",
       "DIAMOND         8200\n",
       "GOLD            8200\n",
       "IRON            8200\n",
       "PLATINUM        8200\n",
       "SILVER          8200\n",
       "GRANDMASTER     7000\n",
       "CHALLENGER      3000\n",
       "Name: tier, dtype: int64"
      ]
     },
     "execution_count": 8,
     "metadata": {},
     "output_type": "execute_result"
    }
   ],
   "source": [
    "frame['tier'].value_counts()"
   ]
  },
  {
   "cell_type": "code",
   "execution_count": 9,
   "id": "663eef4a",
   "metadata": {},
   "outputs": [
    {
     "data": {
      "text/plain": [
       "tier                8\n",
       "leagueId         9597\n",
       "queue               1\n",
       "name                3\n",
       "summonerId      43738\n",
       "summonerName    43731\n",
       "leaguePoints      900\n",
       "rank                4\n",
       "wins              917\n",
       "losses            901\n",
       "veteran             2\n",
       "inactive            1\n",
       "freshBlood          2\n",
       "hotStreak           2\n",
       "queueType           1\n",
       "miniSeries         19\n",
       "dtype: int64"
      ]
     },
     "execution_count": 9,
     "metadata": {},
     "output_type": "execute_result"
    }
   ],
   "source": [
    "frame.nunique()"
   ]
  },
  {
   "cell_type": "code",
   "execution_count": 10,
   "id": "c630d141",
   "metadata": {},
   "outputs": [
    {
     "data": {
      "text/plain": [
       "tier               8\n",
       "leagueId         803\n",
       "queue              1\n",
       "name               3\n",
       "summonerId      4542\n",
       "summonerName    4539\n",
       "leaguePoints     900\n",
       "rank               4\n",
       "wins             785\n",
       "losses           763\n",
       "veteran            2\n",
       "inactive           1\n",
       "freshBlood         2\n",
       "hotStreak          2\n",
       "queueType          1\n",
       "miniSeries        12\n",
       "dtype: int64"
      ]
     },
     "execution_count": 10,
     "metadata": {},
     "output_type": "execute_result"
    }
   ],
   "source": [
    "frame[frame['summonerName'].duplicated()].nunique()"
   ]
  },
  {
   "cell_type": "markdown",
   "id": "d174b492",
   "metadata": {},
   "source": [
    "### Duplicates"
   ]
  },
  {
   "cell_type": "code",
   "execution_count": 11,
   "id": "0ecf02e7",
   "metadata": {},
   "outputs": [
    {
     "data": {
      "text/plain": [
       "tier\n",
       "CHALLENGER      2700\n",
       "DIAMOND          182\n",
       "GOLD             180\n",
       "GRANDMASTER     6301\n",
       "IRON             181\n",
       "MASTER         23742\n",
       "PLATINUM         182\n",
       "SILVER           180\n",
       "Name: summonerId, dtype: int64"
      ]
     },
     "execution_count": 11,
     "metadata": {},
     "output_type": "execute_result"
    }
   ],
   "source": [
    "frame[frame['summonerName'].duplicated()].groupby('tier').count()['summonerId']"
   ]
  },
  {
   "cell_type": "code",
   "execution_count": 12,
   "id": "e86ca876",
   "metadata": {},
   "outputs": [
    {
     "data": {
      "text/plain": [
       "tier\n",
       "CHALLENGER      300\n",
       "DIAMOND        8018\n",
       "GOLD           8020\n",
       "GRANDMASTER     699\n",
       "IRON           8019\n",
       "MASTER         2638\n",
       "PLATINUM       8018\n",
       "SILVER         8020\n",
       "Name: summonerId, dtype: int64"
      ]
     },
     "execution_count": 12,
     "metadata": {},
     "output_type": "execute_result"
    }
   ],
   "source": [
    "frame.drop_duplicates(subset=['summonerName']).groupby('tier').count()['summonerId']"
   ]
  },
  {
   "cell_type": "markdown",
   "id": "606d6392",
   "metadata": {},
   "source": [
    "MASTER, GRANDMASTER, and CHALLENGER leagues have <8020 players. So the data makes sense."
   ]
  },
  {
   "cell_type": "markdown",
   "id": "d5139a0d",
   "metadata": {},
   "source": [
    "### Drop Duplicates, Export"
   ]
  },
  {
   "cell_type": "code",
   "execution_count": 13,
   "id": "875e5ba9",
   "metadata": {},
   "outputs": [],
   "source": [
    "frame = frame.drop_duplicates(subset=['summonerName'])"
   ]
  },
  {
   "cell_type": "code",
   "execution_count": 14,
   "id": "03a981a1",
   "metadata": {},
   "outputs": [
    {
     "data": {
      "text/plain": [
       "(43732, 16)"
      ]
     },
     "execution_count": 14,
     "metadata": {},
     "output_type": "execute_result"
    }
   ],
   "source": [
    "frame.shape"
   ]
  },
  {
   "cell_type": "code",
   "execution_count": 15,
   "id": "71628fdf",
   "metadata": {},
   "outputs": [
    {
     "data": {
      "text/plain": [
       "tier                8\n",
       "leagueId         9597\n",
       "queue               1\n",
       "name                3\n",
       "summonerId      43732\n",
       "summonerName    43731\n",
       "leaguePoints      900\n",
       "rank                4\n",
       "wins              917\n",
       "losses            901\n",
       "veteran             2\n",
       "inactive            1\n",
       "freshBlood          2\n",
       "hotStreak           2\n",
       "queueType           1\n",
       "miniSeries         19\n",
       "dtype: int64"
      ]
     },
     "execution_count": 15,
     "metadata": {},
     "output_type": "execute_result"
    }
   ],
   "source": [
    "frame.nunique()"
   ]
  },
  {
   "cell_type": "code",
   "execution_count": 16,
   "id": "42e0bf1f",
   "metadata": {},
   "outputs": [
    {
     "data": {
      "text/plain": [
       "RANKED_SOLO_5x5    3637\n",
       "Name: queue, dtype: int64"
      ]
     },
     "execution_count": 16,
     "metadata": {},
     "output_type": "execute_result"
    }
   ],
   "source": [
    "frame.queue.value_counts()"
   ]
  },
  {
   "cell_type": "code",
   "execution_count": 17,
   "id": "9e1928ec",
   "metadata": {},
   "outputs": [
    {
     "data": {
      "text/plain": [
       "GOLD           8020\n",
       "SILVER         8020\n",
       "IRON           8019\n",
       "DIAMOND        8018\n",
       "PLATINUM       8018\n",
       "MASTER         2638\n",
       "GRANDMASTER     699\n",
       "CHALLENGER      300\n",
       "Name: tier, dtype: int64"
      ]
     },
     "execution_count": 17,
     "metadata": {},
     "output_type": "execute_result"
    }
   ],
   "source": [
    "frame.tier.value_counts()"
   ]
  },
  {
   "cell_type": "code",
   "execution_count": 18,
   "id": "26da83b5",
   "metadata": {},
   "outputs": [],
   "source": [
    "# setting up filepath \n",
    "data_folder = 'data/'\n",
    "base_filename = 'api-all'\n",
    "timestamp = str(date.today()).replace('-','')\n",
    "ext = '.csv'\n",
    "filepath = '_'.join([data_folder+base_filename,timestamp+ext])\n",
    "\n",
    "#export\n",
    "frame.to_csv(filepath,index=False,header=True)"
   ]
  }
 ],
 "metadata": {
  "kernelspec": {
   "display_name": "Python 3 (ipykernel)",
   "language": "python",
   "name": "python3"
  },
  "language_info": {
   "codemirror_mode": {
    "name": "ipython",
    "version": 3
   },
   "file_extension": ".py",
   "mimetype": "text/x-python",
   "name": "python",
   "nbconvert_exporter": "python",
   "pygments_lexer": "ipython3",
   "version": "3.9.7"
  }
 },
 "nbformat": 4,
 "nbformat_minor": 5
}
