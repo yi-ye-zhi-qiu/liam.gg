{
 "cells": [
  {
   "cell_type": "code",
   "execution_count": 9,
   "id": "romance-possible",
   "metadata": {},
   "outputs": [
    {
     "name": "stdout",
     "output_type": "stream",
     "text": [
      "python version used:  3.8.5 (default, Sep  4 2020, 02:22:02) \n",
      "[Clang 10.0.0 ]\n"
     ]
    }
   ],
   "source": [
    "import sys; print('python version used: ',sys.version)\n",
    "\n",
    "import pandas as pd\n",
    "import numpy as np\n",
    "\n",
    "import time\n",
    "from prettytable import PrettyTable\n",
    "from riotwatcher import LolWatcher, ApiError\n",
    "\n",
    "%matplotlib inline\n",
    "#see all columns/rows\n",
    "pd.set_option('display.max_columns', None)"
   ]
  },
  {
   "cell_type": "code",
   "execution_count": 13,
   "id": "closed-leonard",
   "metadata": {},
   "outputs": [
    {
     "name": "stdout",
     "output_type": "stream",
     "text": [
      "Get 1025 games for each division's tier in League of Legends current patch.\n",
      "This means 1025 games for 8 divisions, and 23 tiers, or for 1025*23=23575 games\n",
      "Note: there's no guarentee the data will actually retain 1025/division/tier,  as some people will have changed their name since their the time of running this code.\n",
      "The order of rankings from lowest to highest is as below:\n",
      "+-------------+---------------+--------------+-------------+------------+\n",
      "|   division  |       IV      |     III      |      II     |     I      |\n",
      "+-------------+---------------+--------------+-------------+------------+\n",
      "|     IRON    |    IRON IV    |   IRON III   |   IRON II   |   IRON I   |\n",
      "|    SILVER   |   SILVER IV   |  SILVER III  |  SILVER II  |  SILVER I  |\n",
      "|     GOLD    |    GOLD IV    |   GOLD III   |   GOLD II   |   GOLD I   |\n",
      "|   PLATINUM  |  PLATINUM IV  | PLATINUM III | PLATINUM II | PLATINUM I |\n",
      "|   DIAMOND   |   DIAMOND IV  | DIAMOND III  |  DIAMOND II | DIAMOND I  |\n",
      "|    MASTER   |    MASTER I   |      -       |      -      |     -      |\n",
      "| GRANDMASTER | GRANDMASTER I |      -       |      -      |     -      |\n",
      "|  CHALLENGER |  CHALLENGER I |      -       |      -      |     -      |\n",
      "+-------------+---------------+--------------+-------------+------------+\n",
      "--- LAYOUT OF THIS NOTEBOOK ---\n",
      "(1) Create a class \"game_history_by_league\" which gets us a list of 1025 players in each divison/tier\n",
      "(2) Create another list of all divisions/tiers\n",
      "(3) Find Game IDs for the last solo-queue game played by each player and add that in as a column\n",
      "*TAKES A FEW DAYS*\n",
      "(4) Run code to get match data on each of those games\n",
      "*TAKES A WEEK*\n"
     ]
    }
   ],
   "source": [
    "x = PrettyTable()\n",
    "\n",
    "print(\"Get 1025 games for each division's tier in League of Legends current patch.\")\n",
    "print(\"This means 1025 games for 8 divisions, and 23 tiers, or for 1025*23=23575 games\")\n",
    "print(\"Note: there's no guarentee the data will actually retain 1025/division/tier, \",\n",
    "     \"as some people will have changed their name since their the time of running this code.\")\n",
    "\n",
    "print(\"The order of rankings from lowest to highest is as below:\")\n",
    "x.field_names = [\"division\", \"IV\", \"III\", \"II\", \"I\"]\n",
    "x.add_row([\"IRON\", \"IRON IV\", \"IRON III\", \"IRON II\", \"IRON I\"])\n",
    "x.add_row([\"SILVER\", \"SILVER IV\", \"SILVER III\", \"SILVER II\", \"SILVER I\"])\n",
    "x.add_row([\"GOLD\", \"GOLD IV\", \"GOLD III\", \"GOLD II\", \"GOLD I\"])\n",
    "x.add_row([\"PLATINUM\", \"PLATINUM IV\", \"PLATINUM III\", \"PLATINUM II\", \"PLATINUM I\"])\n",
    "x.add_row([\"DIAMOND\", \"DIAMOND IV\", \"DIAMOND III\", \"DIAMOND II\", \"DIAMOND I\"])\n",
    "x.add_row([\"MASTER\", \"MASTER I\", \"-\", \"-\", \"-\"])\n",
    "x.add_row([\"GRANDMASTER\", \"GRANDMASTER I\", \"-\", \"-\", \"-\"])\n",
    "x.add_row([\"CHALLENGER\", \"CHALLENGER I\", \"-\", \"-\", \"-\"])\n",
    "\n",
    "print(x)\n",
    "\n",
    "print('--- LAYOUT OF THIS NOTEBOOK ---')\n",
    "print('(1) Create a class \"game_history_by_league\" which gets us a list of 1025 players in each divison/tier')\n",
    "print('(2) Create another list of all divisions/tiers')\n",
    "print('(3) Find Game IDs for the last solo-queue game played by each player and add that in as a column')\n",
    "print('*TAKES A FEW DAYS*')\n",
    "print('(4) Run code to get match data on each of those games')\n",
    "print('*TAKES A WEEK*')"
   ]
  },
  {
   "cell_type": "code",
   "execution_count": 12,
   "id": "completed-cancer",
   "metadata": {},
   "outputs": [],
   "source": [
    "class game_history_by_league():\n",
    "\n",
    "    def __init__(self, api_key, region):\n",
    "        #upon calling the class we pass in a bunch of things to initialize^\n",
    "        self.api_key = api_key\n",
    "        self.region = region\n",
    "\n",
    "    def get_summoners_for_each_division_tier(self):\n",
    "        \"\"\"\n",
    "        Returns 1025 names from each ranked league in League of Legends.\n",
    "        \"\"\"\n",
    "        watcher = LolWatcher(self.api_key, timeout=1)\n",
    "\n",
    "        #ranked_leagues = ['CHALLENGER', 'GRANDMASTER', 'DIAMOND', 'PLATINUM', 'GOLD', 'SILVER', 'IRON']\n",
    "        ranked_leagues = ['DIAMOND', 'PLATINUM', 'GOLD', 'SILVER', 'IRON']\n",
    "        divisions = ['I', 'II', 'III', 'IV']\n",
    "        solo5v5 = 'RANKED_SOLO_5x5'\n",
    "        ranked_games_by_tier_by_division = {} # we will dump the JSON object returned by the API request into this dictionary\n",
    "\n",
    "        for i in ranked_leagues:\n",
    "            for j in divisions:\n",
    "                #returns 1025 summoner IDs by tier by division, i.e. DIAMOND I, DIAMOND II etc.\n",
    "                #first define key-value pair in dictionary (considered default dict but it's too specific)\n",
    "                ranked_games_by_tier_by_division[i+' '+j] = watcher.league.entries(division=j, tier=i, queue=solo5v5, region=self.region, page=1)\n",
    "                for k in range(2, 10):\n",
    "                    #add onto key-value pair more games per division, it is only 205 with one page,\n",
    "                    #so if we loop through this many pages we get 1025 games\n",
    "                    ranked_games_by_tier_by_division[i+' '+j] += watcher.league.entries(division=j, tier=i, queue=solo5v5, region=self.region, page=k)\n",
    "        return ranked_games_by_tier_by_division\n",
    "\n",
    "    def read_account_game_ids_by_league(self):\n",
    "        \"\"\"\n",
    "        API reference: MatchApiv4 endpoint.\n",
    "        Reads match history (n=1, the last game played) for each summoner name in the lists made above for just game IDs.\n",
    "\n",
    "        Go from ranked_games_by_tier_by_division --> game_ids_by_tier_by_division.\n",
    "\n",
    "        \"\"\"\n",
    "        watcher = LolWatcher(self.api_key)\n",
    "\n",
    "        ranked_games_by_tier_by_division = game_history_by_league(self.api_key, self.region).get_summoners_for_each_division_tier()\n",
    "\n",
    "        game_ids_by_tier_by_division = {}\n",
    "\n",
    "        for i in ranked_leagues:\n",
    "            for j in ranked_summoners:\n",
    "                watcher.matchlist_by_account(j) #this will return a matchlist_by_account"
   ]
  },
  {
   "cell_type": "code",
   "execution_count": 2,
   "id": "frequent-plumbing",
   "metadata": {},
   "outputs": [],
   "source": [
    "api_key = '' #get your own at https://developer.riotgames.com/\n",
    "region = 'na1'\n",
    "watcher = LolWatcher(api_key)"
   ]
  },
  {
   "cell_type": "code",
   "execution_count": 5,
   "id": "destroyed-beach",
   "metadata": {},
   "outputs": [],
   "source": [
    "ranked_games_by_division_by_tier = game_history_by_league(api_key, region).get_summoners_for_each_division_tier()"
   ]
  },
  {
   "cell_type": "code",
   "execution_count": 6,
   "id": "cooked-danger",
   "metadata": {},
   "outputs": [
    {
     "name": "stdout",
     "output_type": "stream",
     "text": [
      "['DIAMONDI', 'DIAMONDII', 'DIAMONDIII', 'DIAMONDIV', 'PLATINUMI', 'PLATINUMII', 'PLATINUMIII', 'PLATINUMIV', 'GOLDI', 'GOLDII', 'GOLDIII', 'GOLDIV', 'SILVERI', 'SILVERII', 'SILVERIII', 'SILVERIV', 'IRONI', 'IRONII', 'IRONIII', 'IRONIV', 'CHALLENGERI', 'MASTERI', 'GRANDMASTERI']\n"
     ]
    }
   ],
   "source": [
    "ranked_leagues = ['DIAMOND', 'PLATINUM', 'GOLD', 'SILVER', 'IRON']\n",
    "#divisions = ['I', 'II', 'III', 'IV']\n",
    "divisions = ['I', 'II', 'III', 'IV']\n",
    "\n",
    "all_divisions = []\n",
    "for i in ranked_leagues:\n",
    "    for j in divisions:\n",
    "        all_divisions.append((i+j))\n",
    "        \n",
    "irregular =['CHALLENGERI', 'MASTERI', 'GRANDMASTERI']\n",
    "for i in irregular:\n",
    "    all_divisions.append(i)\n",
    "print(all_divisions)"
   ]
  },
  {
   "cell_type": "code",
   "execution_count": null,
   "id": "rising-musician",
   "metadata": {},
   "outputs": [],
   "source": [
    "#Fetch game IDs for each player's last game, inserting into a new column 'gameId'\n",
    "watcher = LolWatcher(api_key)\n",
    "df = pd.DataFrame(ranked_games_by_division_by_tier[tier])\n",
    "for i, row in df_rg.iterrows():\n",
    "    try:\n",
    "        accountId = watcher.summoner.by_name(region, df['summonerName'].values[i])['accountId']\n",
    "        games = watcher.match.matchlist_by_account(region, accountId)['matches']\n",
    "        gameId = '%.0f' %[games[x]['gameId'] for x in range(0, len(games)) if games[x]['queue']==420][0]\n",
    "        df.loc[i, 'gameId'] = gameId\n",
    "    except: \n",
    "        df.loc[i, 'gameId'] = ''\n",
    "df.gameId.replace('', np.nan, inplace=True)\n",
    "df.to_csv(tier.replace(\" \", \"\")+'.csv', index=True)\n",
    "    "
   ]
  },
  {
   "cell_type": "code",
   "execution_count": null,
   "id": "everyday-puppy",
   "metadata": {},
   "outputs": [],
   "source": [
    "print(\"For\",df_rg['tier'].values[0],df_rg['rank'].values[0],\"there are\",df_rg['gameId'].nunique(),\"unique games\")\n",
    "print(\"We will now fetch match-specific information for each of those\",df_rg['gameId'].nunique(),\"games\")"
   ]
  },
  {
   "cell_type": "code",
   "execution_count": 8,
   "id": "parental-forum",
   "metadata": {},
   "outputs": [],
   "source": [
    "from models.liam_gg import game_info_by_match_id"
   ]
  },
  {
   "cell_type": "code",
   "execution_count": 9,
   "id": "billion-criticism",
   "metadata": {},
   "outputs": [
    {
     "name": "stdout",
     "output_type": "stream",
     "text": [
      "data/league/SILVERII.csv\n",
      "data/league/SILVERIII.csv\n",
      "data/league/SILVERIV.csv\n",
      "data/league/IRONI.csv\n",
      "data/league/IRONII.csv\n",
      "data/league/IRONIII.csv\n",
      "data/league/IRONIV.csv\n"
     ]
    }
   ],
   "source": [
    "#Doing this for every division will take ~1 week of running constantly\n",
    "for tier in all_divisions:\n",
    "    this_df = pd.DataFrame()\n",
    "    file_name = 'data/league/'+tier.replace(\" \", \"\")+\".csv\"\n",
    "    df_GameID = pd.read_csv(file_name)\n",
    "    df_GameID['gameId'].replace('', np.nan, inplace=True)\n",
    "    print(file_name)\n",
    "    for i, row in df_GameID.iterrows():\n",
    "        if df_GameID['gameId'].values[i] != np.nan:\n",
    "            try:\n",
    "                GameID = int(df_GameID['gameId'].values[i])\n",
    "                Name = df_GameID['summonerName'].values[i]\n",
    "                df = game_info_by_match_id(api_key, Name, region, 'CLASSIC', GameID).match_data()\n",
    "                df = df.loc[df['summonerName'] == Name]\n",
    "                this_df = this_df.append(df)\n",
    "                time.sleep(1)\n",
    "            except: \n",
    "                continue;\n",
    "    this_df.to_csv(tier.replace(\" \", \"\")+'_MatchData'+'.csv', index=True)"
   ]
  },
  {
   "cell_type": "code",
   "execution_count": null,
   "id": "inappropriate-evening",
   "metadata": {},
   "outputs": [],
   "source": []
  },
  {
   "cell_type": "code",
   "execution_count": null,
   "id": "appreciated-perception",
   "metadata": {},
   "outputs": [],
   "source": []
  },
  {
   "cell_type": "code",
   "execution_count": null,
   "id": "attached-location",
   "metadata": {},
   "outputs": [],
   "source": []
  },
  {
   "cell_type": "code",
   "execution_count": null,
   "id": "separate-ozone",
   "metadata": {},
   "outputs": [],
   "source": []
  },
  {
   "cell_type": "code",
   "execution_count": null,
   "id": "contained-chick",
   "metadata": {},
   "outputs": [],
   "source": []
  },
  {
   "cell_type": "code",
   "execution_count": null,
   "id": "international-ghana",
   "metadata": {},
   "outputs": [],
   "source": []
  },
  {
   "cell_type": "code",
   "execution_count": null,
   "id": "proper-worse",
   "metadata": {},
   "outputs": [],
   "source": []
  },
  {
   "cell_type": "code",
   "execution_count": null,
   "id": "limiting-dominant",
   "metadata": {},
   "outputs": [],
   "source": []
  },
  {
   "cell_type": "code",
   "execution_count": null,
   "id": "successful-embassy",
   "metadata": {},
   "outputs": [],
   "source": []
  },
  {
   "cell_type": "code",
   "execution_count": null,
   "id": "native-clone",
   "metadata": {},
   "outputs": [],
   "source": []
  }
 ],
 "metadata": {
  "kernelspec": {
   "display_name": "Python 3",
   "language": "python",
   "name": "python3"
  },
  "language_info": {
   "codemirror_mode": {
    "name": "ipython",
    "version": 3
   },
   "file_extension": ".py",
   "mimetype": "text/x-python",
   "name": "python",
   "nbconvert_exporter": "python",
   "pygments_lexer": "ipython3",
   "version": "3.8.5"
  }
 },
 "nbformat": 4,
 "nbformat_minor": 5
}
