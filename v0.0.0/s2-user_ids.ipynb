{
 "cells": [
  {
   "cell_type": "code",
   "execution_count": 1,
   "id": "41be3331",
   "metadata": {},
   "outputs": [],
   "source": [
    "import pandas as pd \n",
    "import numpy as np\n",
    "import os\n",
    "import requests\n",
    "import time\n",
    "from bs4 import BeautifulSoup"
   ]
  },
  {
   "cell_type": "markdown",
   "id": "ebbffcf4",
   "metadata": {},
   "source": [
    "## Read Data"
   ]
  },
  {
   "cell_type": "code",
   "execution_count": 2,
   "id": "ba24c28f",
   "metadata": {},
   "outputs": [
    {
     "data": {
      "text/plain": [
       "'C:\\\\Users\\\\yeqiu\\\\Desktop\\\\opgg\\\\v0.0.0'"
      ]
     },
     "execution_count": 2,
     "metadata": {},
     "output_type": "execute_result"
    }
   ],
   "source": [
    "os.path.abspath('')"
   ]
  },
  {
   "cell_type": "code",
   "execution_count": 3,
   "id": "3ff2cd15",
   "metadata": {},
   "outputs": [
    {
     "name": "stdout",
     "output_type": "stream",
     "text": [
      "api-all_20210925.csv\n"
     ]
    },
    {
     "data": {
      "text/plain": [
       "'C:\\\\Users\\\\yeqiu\\\\Desktop\\\\opgg\\\\v0.0.0\\\\..\\\\data\\\\api-all_20210925.csv'"
      ]
     },
     "execution_count": 3,
     "metadata": {},
     "output_type": "execute_result"
    }
   ],
   "source": [
    "search_params = 'all'\n",
    "fldr = os.path.join(os.path.abspath(''), '..', 'data')\n",
    "\n",
    "for f in os.listdir(fldr):\n",
    "    \n",
    "    if search_params in f:\n",
    "        \n",
    "        print(f)\n",
    "        fp = os.path.join(fldr, f)\n",
    "\n",
    "fp"
   ]
  },
  {
   "cell_type": "code",
   "execution_count": 4,
   "id": "164b59af",
   "metadata": {},
   "outputs": [
    {
     "name": "stderr",
     "output_type": "stream",
     "text": [
      "C:\\Users\\yeqiu\\AppData\\Local\\Programs\\Python\\Python39\\lib\\site-packages\\IPython\\core\\interactiveshell.py:3441: DtypeWarning: Columns (2,3) have mixed types.Specify dtype option on import or set low_memory=False.\n",
      "  exec(code_obj, self.user_global_ns, self.user_ns)\n"
     ]
    }
   ],
   "source": [
    "df = pd.read_csv(fp)"
   ]
  },
  {
   "cell_type": "markdown",
   "id": "09c23e36",
   "metadata": {},
   "source": [
    "## Helpers"
   ]
  },
  {
   "cell_type": "code",
   "execution_count": 5,
   "id": "a64fb3f5",
   "metadata": {},
   "outputs": [],
   "source": [
    "#No header/user-agent cycling?\n",
    "headers = {\n",
    "    'sec-ch-ua': '\"Google Chrome\";v=\"89\", \"Chromium\";v=\"89\", \";Not A Brand\";v=\"99\"',\n",
    "    'Referer': '',\n",
    "    'sec-ch-ua-mobile': '?0',\n",
    "    'User-Agent': 'Mozilla/5.0 (Macintosh; Intel Mac OS X 11_1_0) AppleWebKit/537.36 (KHTML, like Gecko) Chrome/88.0.4324.192 Safari/537.36'\n",
    "}"
   ]
  },
  {
   "cell_type": "code",
   "execution_count": 6,
   "id": "045601bc",
   "metadata": {},
   "outputs": [],
   "source": [
    "def accessor_id(user_name: 'str') -> 'int': \n",
    "    \n",
    "    \"\"\" Get accesssor summoner ID to feed into OPGG API \"\"\"\n",
    "    \n",
    "    def html_safe(user_name: \"str\") -> \"str\": \n",
    "        \n",
    "        \"\"\"Return HTML safe username to search\"\"\"\n",
    "\n",
    "        html_str = user_name\n",
    "        html_str.replace(' ', '+')\n",
    "\n",
    "        return html_str\n",
    "        \n",
    "    \n",
    "    if not isinstance(user_name, str): \n",
    "        return;\n",
    "    \n",
    "    base_url = 'https://na.op.gg/summoner/'\n",
    "    url_substring = 'userName={}'.format(html_safe(user_name)) \n",
    "    url = base_url + url_substring\n",
    "    \n",
    "    try:\n",
    "        r = requests.get(url, headers=headers)\n",
    "        #print(f'Fetching data for {user_name} @ {url} ...')\n",
    "    except ConnectionError:\n",
    "        print(f'Connection error for {user_name} @ {url}')\n",
    "\n",
    "    if r.ok:\n",
    "    \n",
    "        soup = BeautifulSoup(r.text, 'html.parser')\n",
    "        \n",
    "        #OPGG accesssor ID (for anything involving API requests)\n",
    "        divs = soup.findAll(\"div\", {\"data-summoner-id\" : True})\n",
    "        ids = set(\n",
    "                    [x['data-summoner-id'] for x in divs]\n",
    "                 )\n",
    "       \n",
    "        \n",
    "        #Check uniqueness\n",
    "        if len(ids) != 1:\n",
    "            \n",
    "            #print(f'Multiple or no IDs found, ids: {ids} for user {user_name}\\nMost likely due to name change')\n",
    "            \n",
    "            return \n",
    "        \n",
    "        \n",
    "        accesssor_id = ids.pop()        \n",
    "        return accesssor_id\n",
    "    \n",
    "    else:\n",
    "        \n",
    "        print(f'Error for user {user_name}, url: {url}')\n",
    "        return "
   ]
  },
  {
   "cell_type": "markdown",
   "id": "6ed23392",
   "metadata": {},
   "source": [
    "## Scrape OPgg"
   ]
  },
  {
   "cell_type": "code",
   "execution_count": 7,
   "id": "df78bbb7",
   "metadata": {
    "scrolled": true
   },
   "outputs": [],
   "source": [
    "assert df.shape[0] == len(set(df.summonerName.values)), 'Oh no there are duplicate names...'"
   ]
  },
  {
   "cell_type": "code",
   "execution_count": 8,
   "id": "e9ec2a1c",
   "metadata": {},
   "outputs": [],
   "source": [
    "def print_progress(iteration, total, prefix ='', suffix ='', decimals =1, length =100, fill ='█', printEnd=\"\\r\"):\n",
    "    percent = (\"{0:.\" + str(decimals) + \"f}\").format(100 * (iteration / float(total)))\n",
    "    filledLength = int(length * iteration // total)\n",
    "    bar = fill * filledLength + '-' * (length - filledLength)\n",
    "    print(f'\\r{prefix} |{bar}| {percent}% {suffix}', end =printEnd)\n",
    "\n",
    "    if iteration == total:\n",
    "        print()"
   ]
  },
  {
   "cell_type": "code",
   "execution_count": 9,
   "id": "a0ac288e",
   "metadata": {},
   "outputs": [
    {
     "ename": "SyntaxError",
     "evalue": "invalid syntax (Temp/ipykernel_8472/2454680801.py, line 2)",
     "output_type": "error",
     "traceback": [
      "\u001b[1;36m  File \u001b[1;32m\"C:\\Users\\yeqiu\\AppData\\Local\\Temp/ipykernel_8472/2454680801.py\"\u001b[1;36m, line \u001b[1;32m2\u001b[0m\n\u001b[1;33m    start: 10:35 am\u001b[0m\n\u001b[1;37m             ^\u001b[0m\n\u001b[1;31mSyntaxError\u001b[0m\u001b[1;31m:\u001b[0m invalid syntax\n"
     ]
    }
   ],
   "source": [
    "#Runtime: 5 hrs.\n",
    "start: 10:35 am\n",
    "note: do not turn off computer"
   ]
  },
  {
   "cell_type": "code",
   "execution_count": null,
   "id": "0b339224",
   "metadata": {},
   "outputs": [
    {
     "name": "stdout",
     "output_type": "stream",
     "text": [
      " |███████████████-------------------------------------------------------------------------------------| 15.5% Complete\r"
     ]
    }
   ],
   "source": [
    "main = []\n",
    "\n",
    "print_progress(0, len(df.summonerName.values), prefix ='', suffix ='Complete')\n",
    "\n",
    "for i,name in enumerate(df.summonerName.values):\n",
    "    \n",
    "    user_id = accessor_id(name)\n",
    "    \n",
    "    if user_id:\n",
    "    \n",
    "        tmp = pd.DataFrame({'user_name': name, 'user_id': user_id}, index=[0])\n",
    "\n",
    "        main.append(tmp)\n",
    "    \n",
    "    #  if i%100==0: \n",
    "    #      print(\"Scraped {} of {}, {} remaining\".format(i,len(names),len(names)-i))\n",
    "    \n",
    "    if i%100 ==0: \n",
    "        time.sleep(10) #Politeness is key. 100 requests/2 min. is pretty polite.\n",
    "                       #Considering most scrapers run at 32/sec ...\n",
    "    \n",
    "    print_progress(i, len(df.summonerName.values), prefix ='', suffix ='Complete')"
   ]
  },
  {
   "cell_type": "code",
   "execution_count": null,
   "id": "e73189a8",
   "metadata": {},
   "outputs": [],
   "source": [
    "frame = pd.concat(main)"
   ]
  },
  {
   "cell_type": "code",
   "execution_count": null,
   "id": "05d2819c",
   "metadata": {},
   "outputs": [],
   "source": [
    "frame.shape"
   ]
  },
  {
   "cell_type": "code",
   "execution_count": null,
   "id": "a1259ed2",
   "metadata": {},
   "outputs": [],
   "source": [
    "frame.reset_index(drop=True)"
   ]
  },
  {
   "cell_type": "code",
   "execution_count": null,
   "id": "88dbdbdd",
   "metadata": {},
   "outputs": [],
   "source": [
    "# setting up filepath \n",
    "data_folder = 'data/'\n",
    "base_filename = 's2-user_ids'\n",
    "timestamp = str(date.today()).replace('-','')\n",
    "ext = '.csv'\n",
    "filepath = '_'.join([data_folder+base_filename,timestamp+ext])\n",
    "\n",
    "#export\n",
    "frame.to_csv(filepath,index=False,header=True)"
   ]
  }
 ],
 "metadata": {
  "kernelspec": {
   "display_name": "Python 3 (ipykernel)",
   "language": "python",
   "name": "python3"
  },
  "language_info": {
   "codemirror_mode": {
    "name": "ipython",
    "version": 3
   },
   "file_extension": ".py",
   "mimetype": "text/x-python",
   "name": "python",
   "nbconvert_exporter": "python",
   "pygments_lexer": "ipython3",
   "version": "3.9.7"
  }
 },
 "nbformat": 4,
 "nbformat_minor": 5
}
