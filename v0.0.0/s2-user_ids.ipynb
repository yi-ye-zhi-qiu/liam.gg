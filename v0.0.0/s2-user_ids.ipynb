{
 "cells": [
  {
   "cell_type": "code",
   "execution_count": 16,
   "id": "rocky-firmware",
   "metadata": {},
   "outputs": [],
   "source": [
    "import pandas as pd \n",
    "import numpy as np\n",
    "import os\n",
    "import requests\n",
    "import time\n",
    "from datetime import date\n",
    "from bs4 import BeautifulSoup"
   ]
  },
  {
   "cell_type": "markdown",
   "id": "southern-vehicle",
   "metadata": {},
   "source": [
    "## Read Data"
   ]
  },
  {
   "cell_type": "code",
   "execution_count": 2,
   "id": "given-extension",
   "metadata": {},
   "outputs": [
    {
     "data": {
      "text/plain": [
       "'/Users/liamisaacs/Desktop/Personal Github Repositories/metis-project3/v0.0.0'"
      ]
     },
     "execution_count": 2,
     "metadata": {},
     "output_type": "execute_result"
    }
   ],
   "source": [
    "os.path.abspath('')"
   ]
  },
  {
   "cell_type": "code",
   "execution_count": 3,
   "id": "opposite-combining",
   "metadata": {},
   "outputs": [
    {
     "name": "stdout",
     "output_type": "stream",
     "text": [
      "api-all_20210925.csv\n"
     ]
    },
    {
     "data": {
      "text/plain": [
       "'/Users/liamisaacs/Desktop/Personal Github Repositories/metis-project3/v0.0.0/../data/api-all_20210925.csv'"
      ]
     },
     "execution_count": 3,
     "metadata": {},
     "output_type": "execute_result"
    }
   ],
   "source": [
    "search_params = 'all'\n",
    "fldr = os.path.join(os.path.abspath(''), '..', 'data')\n",
    "\n",
    "for f in os.listdir(fldr):\n",
    "    \n",
    "    if search_params in f:\n",
    "        \n",
    "        print(f)\n",
    "        fp = os.path.join(fldr, f)\n",
    "\n",
    "fp"
   ]
  },
  {
   "cell_type": "code",
   "execution_count": 4,
   "id": "illegal-ranking",
   "metadata": {},
   "outputs": [
    {
     "name": "stderr",
     "output_type": "stream",
     "text": [
      "/Users/liamisaacs/opt/anaconda3/lib/python3.8/site-packages/IPython/core/interactiveshell.py:3155: DtypeWarning: Columns (2,3) have mixed types.Specify dtype option on import or set low_memory=False.\n",
      "  has_raised = await self.run_ast_nodes(code_ast.body, cell_name,\n"
     ]
    }
   ],
   "source": [
    "df = pd.read_csv(fp)"
   ]
  },
  {
   "cell_type": "markdown",
   "id": "alternate-commissioner",
   "metadata": {},
   "source": [
    "## Helpers"
   ]
  },
  {
   "cell_type": "code",
   "execution_count": 5,
   "id": "alleged-charter",
   "metadata": {},
   "outputs": [],
   "source": [
    "#No header/user-agent cycling?\n",
    "headers = {\n",
    "    'sec-ch-ua': '\"Google Chrome\";v=\"89\", \"Chromium\";v=\"89\", \";Not A Brand\";v=\"99\"',\n",
    "    'Referer': '',\n",
    "    'sec-ch-ua-mobile': '?0',\n",
    "    'User-Agent': 'Mozilla/5.0 (Macintosh; Intel Mac OS X 11_1_0) AppleWebKit/537.36 (KHTML, like Gecko) Chrome/88.0.4324.192 Safari/537.36'\n",
    "}"
   ]
  },
  {
   "cell_type": "code",
   "execution_count": 7,
   "id": "advanced-diversity",
   "metadata": {},
   "outputs": [],
   "source": [
    "def accessor_id(user_name: 'str') -> 'int': \n",
    "    \n",
    "    \"\"\" Get accesssor summoner ID to feed into OPGG API \"\"\"\n",
    "    \n",
    "    def html_safe(user_name: \"str\") -> \"str\": \n",
    "        \n",
    "        \"\"\"Return HTML safe username to search\"\"\"\n",
    "\n",
    "        html_str = user_name\n",
    "        html_str.replace(' ', '+')\n",
    "\n",
    "        return html_str\n",
    "        \n",
    "    \n",
    "    if not isinstance(user_name, str): \n",
    "        return;\n",
    "    \n",
    "    base_url = 'https://na.op.gg/summoner/'\n",
    "    url_substring = 'userName={}'.format(html_safe(user_name)) \n",
    "    url = base_url + url_substring\n",
    "    \n",
    "    try:\n",
    "        r = requests.get(url, headers=headers)\n",
    "        #print(f'Fetching data for {user_name} @ {url} ...')\n",
    "            \n",
    "        soup = BeautifulSoup(r.text, 'html.parser')\n",
    "        \n",
    "        #OPGG accesssor ID (for anything involving API requests)\n",
    "        divs = soup.findAll(\"div\", {\"data-summoner-id\" : True})\n",
    "        ids = set(\n",
    "                    [x['data-summoner-id'] for x in divs]\n",
    "                 )\n",
    "    \n",
    "        #Check uniqueness\n",
    "        if len(ids) != 1:\n",
    "            #print(f'Multiple or no IDs found, ids: {ids} for user {user_name}\\nMost likely due to name change        \n",
    "            return \n",
    "        \n",
    "        \n",
    "        accesssor_id = ids.pop()        \n",
    "        return accesssor_id\n",
    "    \n",
    "    except:\n",
    "        print(f'Connection error for {user_name} @ {url}')"
   ]
  },
  {
   "cell_type": "markdown",
   "id": "tight-buyer",
   "metadata": {},
   "source": [
    "## Scrape OPgg"
   ]
  },
  {
   "cell_type": "code",
   "execution_count": 8,
   "id": "norman-squad",
   "metadata": {
    "scrolled": true
   },
   "outputs": [],
   "source": [
    "assert df.shape[0] == len(set(df.summonerName.values)), 'Oh no there are duplicate names...'"
   ]
  },
  {
   "cell_type": "code",
   "execution_count": 9,
   "id": "differential-decade",
   "metadata": {},
   "outputs": [],
   "source": [
    "def print_progress(iteration, total, prefix ='', suffix ='', decimals =1, length =100, fill ='█', printEnd=\"\\r\"):\n",
    "    percent = (\"{0:.\" + str(decimals) + \"f}\").format(100 * (iteration / float(total)))\n",
    "    filledLength = int(length * iteration // total)\n",
    "    bar = fill * filledLength + '-' * (length - filledLength)\n",
    "    print(f'\\r{prefix} |{bar}| {percent}% {suffix}', end =printEnd)\n",
    "\n",
    "    if iteration == total:\n",
    "        print()"
   ]
  },
  {
   "cell_type": "code",
   "execution_count": 9,
   "id": "devoted-commodity",
   "metadata": {},
   "outputs": [
    {
     "ename": "SyntaxError",
     "evalue": "invalid syntax (<ipython-input-9-706eb9845d2c>, line 2)",
     "output_type": "error",
     "traceback": [
      "\u001b[0;36m  File \u001b[0;32m\"<ipython-input-9-706eb9845d2c>\"\u001b[0;36m, line \u001b[0;32m2\u001b[0m\n\u001b[0;31m    start: 10:35 am\u001b[0m\n\u001b[0m             ^\u001b[0m\n\u001b[0;31mSyntaxError\u001b[0m\u001b[0;31m:\u001b[0m invalid syntax\n"
     ]
    }
   ],
   "source": [
    "#Runtime: 5 hrs.\n",
    "start: 8:51 pm\n",
    "note: do not turn off computer"
   ]
  },
  {
   "cell_type": "code",
   "execution_count": 10,
   "id": "precise-interval",
   "metadata": {},
   "outputs": [
    {
     "name": "stdout",
     "output_type": "stream",
     "text": [
      "Scraped 0 of 43732, 43732 remaining-------------------------------------------------------------------| 0.0% Complete\n",
      "Scraped 1000 of 43732, 42732 remaining----------------------------------------------------------------| 2.3% Complete\n",
      "Scraped 2000 of 43732, 41732 remaining----------------------------------------------------------------| 4.6% Complete\n",
      "Scraped 3000 of 43732, 40732 remaining----------------------------------------------------------------| 6.9% Complete\n",
      "Scraped 4000 of 43732, 39732 remaining----------------------------------------------------------------| 9.1% Complete\n",
      "Scraped 5000 of 43732, 38732 remaining----------------------------------------------------------------| 11.4% Complete\n",
      "Scraped 6000 of 43732, 37732 remaining----------------------------------------------------------------| 13.7% Complete\n",
      "Scraped 7000 of 43732, 36732 remaining----------------------------------------------------------------| 16.0% Complete\n",
      "Scraped 8000 of 43732, 35732 remaining----------------------------------------------------------------| 18.3% Complete\n",
      "Scraped 9000 of 43732, 34732 remaining----------------------------------------------------------------| 20.6% Complete\n",
      "Scraped 10000 of 43732, 33732 remaining---------------------------------------------------------------| 22.9% Complete\n",
      "Scraped 11000 of 43732, 32732 remaining---------------------------------------------------------------| 25.2% Complete\n",
      "Scraped 12000 of 43732, 31732 remaining---------------------------------------------------------------| 27.4% Complete\n",
      "Scraped 13000 of 43732, 30732 remaining---------------------------------------------------------------| 29.7% Complete\n",
      "Scraped 14000 of 43732, 29732 remaining---------------------------------------------------------------| 32.0% Complete\n",
      "Scraped 15000 of 43732, 28732 remaining---------------------------------------------------------------| 34.3% Complete\n",
      "Connection error for Squirtguy @ https://na.op.gg/summoner/userName=Squirtguy-------------------------| 36.3% Complete\n",
      "Scraped 16000 of 43732, 27732 remaining---------------------------------------------------------------| 36.6% Complete\n",
      "Connection error for Zedanes @ https://na.op.gg/summoner/userName=Zedanes-----------------------------| 40.5% Complete\n",
      "Scraped 18000 of 43732, 25732 remaining████-----------------------------------------------------------| 41.2% Complete\n",
      "Scraped 19000 of 43732, 24732 remaining██████---------------------------------------------------------| 43.4% Complete\n",
      "Scraped 20000 of 43732, 23732 remaining████████-------------------------------------------------------| 45.7% Complete\n",
      "Scraped 21000 of 43732, 22732 remaining███████████----------------------------------------------------| 48.0% Complete\n",
      "Scraped 22000 of 43732, 21732 remaining█████████████--------------------------------------------------| 50.3% Complete\n",
      "Scraped 23000 of 43732, 20732 remaining███████████████------------------------------------------------| 52.6% Complete\n",
      "Scraped 24000 of 43732, 19732 remaining█████████████████----------------------------------------------| 54.9% Complete\n",
      "Connection error for UG Careless @ https://na.op.gg/summoner/userName=UG Careless---------------------| 55.8% Complete\n",
      "Connection error for aryam07 @ https://na.op.gg/summoner/userName=aryam07-----------------------------| 55.8% Complete\n",
      "Connection error for Ixufpauc @ https://na.op.gg/summoner/userName=Ixufpauc---------------------------| 55.8% Complete\n",
      "Connection error for DIAPER LICKER @ https://na.op.gg/summoner/userName=DIAPER LICKER-----------------| 55.8% Complete\n",
      "Connection error for Dangelang  @ https://na.op.gg/summoner/userName=Dangelang -----------------------| 55.8% Complete\n",
      "Connection error for NextQuestionPls @ https://na.op.gg/summoner/userName=NextQuestionPls-------------| 55.8% Complete\n",
      "Scraped 25000 of 43732, 18732 remaining████████████████████-------------------------------------------| 57.2% Complete\n",
      "Scraped 26000 of 43732, 17732 remaining██████████████████████-----------------------------------------| 59.5% Complete\n",
      "Scraped 27000 of 43732, 16732 remaining████████████████████████---------------------------------------| 61.7% Complete\n",
      "Scraped 28000 of 43732, 15732 remaining███████████████████████████------------------------------------| 64.0% Complete\n",
      "Scraped 29000 of 43732, 14732 remaining█████████████████████████████----------------------------------| 66.3% Complete\n",
      "Scraped 30000 of 43732, 13732 remaining███████████████████████████████--------------------------------| 68.6% Complete\n",
      "Connection error for PopstarSona @ https://na.op.gg/summoner/userName=PopstarSona---------------------| 70.0% Complete\n",
      "Connection error for hOuRkYTyrone @ https://na.op.gg/summoner/userName=hOuRkYTyrone-------------------| 70.7% Complete\n",
      "Connection error for Bansky @ https://na.op.gg/summoner/userName=Bansky█------------------------------| 70.7% Complete\n",
      "Connection error for Isoldes Doll @ https://na.op.gg/summoner/userName=Isoldes Doll-------------------| 70.7% Complete\n",
      "Scraped 31000 of 43732, 12732 remaining█████████████████████████████████------------------------------| 70.9% Complete\n",
      "Connection error for Beast In Lovee @ https://na.op.gg/summoner/userName=Beast In Lovee---------------| 73.1% Complete\n",
      "Scraped 32000 of 43732, 11732 remaining████████████████████████████████████---------------------------| 73.2% Complete\n",
      "Scraped 33000 of 43732, 10732 remaining██████████████████████████████████████-------------------------| 75.5% Complete\n",
      "Scraped 34000 of 43732, 9732 remaining█████████████████████████████████████████-----------------------| 77.7% Complete\n",
      "Scraped 35000 of 43732, 8732 remaining████████████████████████████████████████████--------------------| 80.0% Complete\n",
      "Scraped 36000 of 43732, 7732 remaining██████████████████████████████████████████████------------------| 82.3% Complete\n",
      "Scraped 37000 of 43732, 6732 remaining████████████████████████████████████████████████----------------| 84.6% Complete\n",
      "Connection error for RedamancyVI @ https://na.op.gg/summoner/userName=RedamancyVI███████--------------| 86.1% Complete\n",
      "Connection error for Sorry mb xd @ https://na.op.gg/summoner/userName=Sorry mb xd███████--------------| 86.1% Complete\n",
      "Connection error for Yunyn @ https://na.op.gg/summoner/userName=Yunyn███████████████████--------------| 86.3% Complete\n",
      "Scraped 38000 of 43732, 5732 remaining██████████████████████████████████████████████████--------------| 86.9% Complete\n",
      "Scraped 39000 of 43732, 4732 remaining█████████████████████████████████████████████████████-----------| 89.2% Complete\n",
      "Scraped 40000 of 43732, 3732 remaining███████████████████████████████████████████████████████---------| 91.5% Complete\n",
      "Scraped 41000 of 43732, 2732 remaining█████████████████████████████████████████████████████████-------| 93.8% Complete\n",
      "Scraped 42000 of 43732, 1732 remaining████████████████████████████████████████████████████████████----| 96.0% Complete\n",
      "Scraped 43000 of 43732, 732 remaining███████████████████████████████████████████████████████████████--| 98.3% Complete\n",
      " |███████████████████████████████████████████████████████████████████████████████████████████████████-| 100.0% Complete\r"
     ]
    }
   ],
   "source": [
    "main = pd.DataFrame({'user_name': '', 'user_id': ''}, index=[0])\n",
    "\n",
    "print_progress(0, len(df.summonerName.values), prefix ='', suffix ='Complete')\n",
    "\n",
    "for i,name in enumerate(df.summonerName.values):\n",
    "    \n",
    "    user_id = accessor_id(name)\n",
    "    \n",
    "    if user_id:\n",
    "    \n",
    "        tmp = pd.DataFrame({'user_name': name, 'user_id': user_id}, index=[0])\n",
    "\n",
    "        main = main.append(tmp)\n",
    "    \n",
    "        if i%1000==0: \n",
    "            print(\"Scraped {} of {}, {} remaining\".format(i,len(df.summonerName.values),len(df.summonerName.values)-i))\n",
    "    \n",
    "    #if i%100 ==0: \n",
    "    #time.sleep(10) #Politeness is key. 100 requests/2 min. is pretty polite.\n",
    "                       #Considering most scrapers run at 32/sec ...\n",
    "    \n",
    "    print_progress(i, len(df.summonerName.values), prefix ='', suffix ='Complete')"
   ]
  },
  {
   "cell_type": "code",
   "execution_count": 11,
   "id": "attended-administration",
   "metadata": {},
   "outputs": [
    {
     "data": {
      "text/html": [
       "<div>\n",
       "<style scoped>\n",
       "    .dataframe tbody tr th:only-of-type {\n",
       "        vertical-align: middle;\n",
       "    }\n",
       "\n",
       "    .dataframe tbody tr th {\n",
       "        vertical-align: top;\n",
       "    }\n",
       "\n",
       "    .dataframe thead th {\n",
       "        text-align: right;\n",
       "    }\n",
       "</style>\n",
       "<table border=\"1\" class=\"dataframe\">\n",
       "  <thead>\n",
       "    <tr style=\"text-align: right;\">\n",
       "      <th></th>\n",
       "      <th>user_name</th>\n",
       "      <th>user_id</th>\n",
       "    </tr>\n",
       "  </thead>\n",
       "  <tbody>\n",
       "    <tr>\n",
       "      <th>0</th>\n",
       "      <td></td>\n",
       "      <td></td>\n",
       "    </tr>\n",
       "    <tr>\n",
       "      <th>0</th>\n",
       "      <td>Gorica</td>\n",
       "      <td>31531320</td>\n",
       "    </tr>\n",
       "    <tr>\n",
       "      <th>0</th>\n",
       "      <td>black player</td>\n",
       "      <td>47442009</td>\n",
       "    </tr>\n",
       "    <tr>\n",
       "      <th>0</th>\n",
       "      <td>Dragoon</td>\n",
       "      <td>30575802</td>\n",
       "    </tr>\n",
       "    <tr>\n",
       "      <th>0</th>\n",
       "      <td>c2 meteos</td>\n",
       "      <td>46125229</td>\n",
       "    </tr>\n",
       "    <tr>\n",
       "      <th>...</th>\n",
       "      <td>...</td>\n",
       "      <td>...</td>\n",
       "    </tr>\n",
       "    <tr>\n",
       "      <th>0</th>\n",
       "      <td>toastyboi2</td>\n",
       "      <td>103707273</td>\n",
       "    </tr>\n",
       "    <tr>\n",
       "      <th>0</th>\n",
       "      <td>LoneWuffy</td>\n",
       "      <td>100999567</td>\n",
       "    </tr>\n",
       "    <tr>\n",
       "      <th>0</th>\n",
       "      <td>ZeWorst01</td>\n",
       "      <td>105592409</td>\n",
       "    </tr>\n",
       "    <tr>\n",
       "      <th>0</th>\n",
       "      <td>gratt14</td>\n",
       "      <td>100999702</td>\n",
       "    </tr>\n",
       "    <tr>\n",
       "      <th>0</th>\n",
       "      <td>K3yz101</td>\n",
       "      <td>100999800</td>\n",
       "    </tr>\n",
       "  </tbody>\n",
       "</table>\n",
       "<p>43265 rows × 2 columns</p>\n",
       "</div>"
      ],
      "text/plain": [
       "       user_name    user_id\n",
       "0                          \n",
       "0         Gorica   31531320\n",
       "0   black player   47442009\n",
       "0        Dragoon   30575802\n",
       "0      c2 meteos   46125229\n",
       "..           ...        ...\n",
       "0     toastyboi2  103707273\n",
       "0      LoneWuffy  100999567\n",
       "0      ZeWorst01  105592409\n",
       "0        gratt14  100999702\n",
       "0        K3yz101  100999800\n",
       "\n",
       "[43265 rows x 2 columns]"
      ]
     },
     "execution_count": 11,
     "metadata": {},
     "output_type": "execute_result"
    }
   ],
   "source": [
    "main"
   ]
  },
  {
   "cell_type": "code",
   "execution_count": 12,
   "id": "engaging-cisco",
   "metadata": {},
   "outputs": [],
   "source": [
    "frame = main.copy()"
   ]
  },
  {
   "cell_type": "code",
   "execution_count": 13,
   "id": "sapphire-protein",
   "metadata": {},
   "outputs": [
    {
     "data": {
      "text/plain": [
       "(43265, 2)"
      ]
     },
     "execution_count": 13,
     "metadata": {},
     "output_type": "execute_result"
    }
   ],
   "source": [
    "frame.shape"
   ]
  },
  {
   "cell_type": "code",
   "execution_count": 14,
   "id": "loose-evaluation",
   "metadata": {},
   "outputs": [
    {
     "data": {
      "text/html": [
       "<div>\n",
       "<style scoped>\n",
       "    .dataframe tbody tr th:only-of-type {\n",
       "        vertical-align: middle;\n",
       "    }\n",
       "\n",
       "    .dataframe tbody tr th {\n",
       "        vertical-align: top;\n",
       "    }\n",
       "\n",
       "    .dataframe thead th {\n",
       "        text-align: right;\n",
       "    }\n",
       "</style>\n",
       "<table border=\"1\" class=\"dataframe\">\n",
       "  <thead>\n",
       "    <tr style=\"text-align: right;\">\n",
       "      <th></th>\n",
       "      <th>user_name</th>\n",
       "      <th>user_id</th>\n",
       "    </tr>\n",
       "  </thead>\n",
       "  <tbody>\n",
       "    <tr>\n",
       "      <th>0</th>\n",
       "      <td></td>\n",
       "      <td></td>\n",
       "    </tr>\n",
       "    <tr>\n",
       "      <th>1</th>\n",
       "      <td>Gorica</td>\n",
       "      <td>31531320</td>\n",
       "    </tr>\n",
       "    <tr>\n",
       "      <th>2</th>\n",
       "      <td>black player</td>\n",
       "      <td>47442009</td>\n",
       "    </tr>\n",
       "    <tr>\n",
       "      <th>3</th>\n",
       "      <td>Dragoon</td>\n",
       "      <td>30575802</td>\n",
       "    </tr>\n",
       "    <tr>\n",
       "      <th>4</th>\n",
       "      <td>c2 meteos</td>\n",
       "      <td>46125229</td>\n",
       "    </tr>\n",
       "    <tr>\n",
       "      <th>...</th>\n",
       "      <td>...</td>\n",
       "      <td>...</td>\n",
       "    </tr>\n",
       "    <tr>\n",
       "      <th>43260</th>\n",
       "      <td>toastyboi2</td>\n",
       "      <td>103707273</td>\n",
       "    </tr>\n",
       "    <tr>\n",
       "      <th>43261</th>\n",
       "      <td>LoneWuffy</td>\n",
       "      <td>100999567</td>\n",
       "    </tr>\n",
       "    <tr>\n",
       "      <th>43262</th>\n",
       "      <td>ZeWorst01</td>\n",
       "      <td>105592409</td>\n",
       "    </tr>\n",
       "    <tr>\n",
       "      <th>43263</th>\n",
       "      <td>gratt14</td>\n",
       "      <td>100999702</td>\n",
       "    </tr>\n",
       "    <tr>\n",
       "      <th>43264</th>\n",
       "      <td>K3yz101</td>\n",
       "      <td>100999800</td>\n",
       "    </tr>\n",
       "  </tbody>\n",
       "</table>\n",
       "<p>43265 rows × 2 columns</p>\n",
       "</div>"
      ],
      "text/plain": [
       "          user_name    user_id\n",
       "0                             \n",
       "1            Gorica   31531320\n",
       "2      black player   47442009\n",
       "3           Dragoon   30575802\n",
       "4         c2 meteos   46125229\n",
       "...             ...        ...\n",
       "43260    toastyboi2  103707273\n",
       "43261     LoneWuffy  100999567\n",
       "43262     ZeWorst01  105592409\n",
       "43263       gratt14  100999702\n",
       "43264       K3yz101  100999800\n",
       "\n",
       "[43265 rows x 2 columns]"
      ]
     },
     "execution_count": 14,
     "metadata": {},
     "output_type": "execute_result"
    }
   ],
   "source": [
    "frame.reset_index(drop=True)"
   ]
  },
  {
   "cell_type": "code",
   "execution_count": 19,
   "id": "martial-williams",
   "metadata": {},
   "outputs": [],
   "source": [
    "# setting up filepath \n",
    "data_folder = ''\n",
    "base_filename = 's2-user_ids'\n",
    "timestamp = str(date.today()).replace('-','')\n",
    "ext = '.csv'\n",
    "filepath = '_'.join([data_folder+base_filename,timestamp+ext])\n",
    "\n",
    "#export\n",
    "frame.to_csv(filepath,index=False,header=True)"
   ]
  }
 ],
 "metadata": {
  "kernelspec": {
   "display_name": "Python 3",
   "language": "python",
   "name": "python3"
  },
  "language_info": {
   "codemirror_mode": {
    "name": "ipython",
    "version": 3
   },
   "file_extension": ".py",
   "mimetype": "text/x-python",
   "name": "python",
   "nbconvert_exporter": "python",
   "pygments_lexer": "ipython3",
   "version": "3.8.5"
  }
 },
 "nbformat": 4,
 "nbformat_minor": 5
}
