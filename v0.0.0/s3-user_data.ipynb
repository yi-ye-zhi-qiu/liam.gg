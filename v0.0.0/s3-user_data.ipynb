{
 "cells": [
  {
   "cell_type": "code",
   "execution_count": 1,
   "id": "32447a76",
   "metadata": {},
   "outputs": [],
   "source": [
    "import pandas as pd \n",
    "import numpy as np\n",
    "import json\n",
    "import os\n",
    "import re\n",
    "from datetime import datetime\n",
    "import requests\n",
    "from bs4 import BeautifulSoup\n",
    "import sys\n",
    "\n",
    "#from .. import Helpers\n",
    "sys.path.append(os.path.join(os.path.abspath(''),'..'))\n",
    "\n",
    "from helpers import PageParser"
   ]
  },
  {
   "cell_type": "markdown",
   "id": "bd496a33",
   "metadata": {},
   "source": [
    "## Helpers"
   ]
  },
  {
   "cell_type": "code",
   "execution_count": 2,
   "id": "3e862205",
   "metadata": {},
   "outputs": [],
   "source": [
    "#No header/user-agent cycling?\n",
    "headers = {\n",
    "    'sec-ch-ua': '\"Google Chrome\";v=\"89\", \"Chromium\";v=\"89\", \";Not A Brand\";v=\"99\"',\n",
    "    'Referer': '',\n",
    "    'sec-ch-ua-mobile': '?0',\n",
    "    'User-Agent': 'Mozilla/5.0 (Macintosh; Intel Mac OS X 11_1_0) AppleWebKit/537.36 (KHTML, like Gecko) Chrome/88.0.4324.192 Safari/537.36'\n",
    "}"
   ]
  },
  {
   "cell_type": "code",
   "execution_count": 3,
   "id": "94a46c86",
   "metadata": {},
   "outputs": [],
   "source": [
    "def build_api_endpoint(user_id: 'int', start_info=0) -> 'url string': \n",
    "\n",
    "    \"\"\" OPGG uses AJAX XHR requests to fetch data. \n",
    "        We can pose to the public API endpoint per user \n",
    "        and fetch data all the same. \n",
    "        \n",
    "        @user_id: integer value found in data-summoner-id param of OPGG user pages\n",
    "        @start_info: integer value used for pagination;\n",
    "                     first page is 0, next is Unix epoch \n",
    "                     time (https://www.epochconverter.com/)\n",
    "        \n",
    "    \"\"\"\n",
    "\n",
    "    base_url = 'https://na.op.gg/summoner/matches/ajax/averageAndList/'\n",
    "    api_substring = 'startInfo={}&summonerId={}&type=soloranked'.format(start_info,\n",
    "                                                        user_id)\n",
    "        \n",
    "    api_endpoint = base_url + api_substring\n",
    "    \n",
    "    return api_endpoint"
   ]
  },
  {
   "cell_type": "code",
   "execution_count": 4,
   "id": "d6fc29b6",
   "metadata": {},
   "outputs": [],
   "source": [
    "def parse(payload: 'dict', user_name) -> 'pd.DataFrame':\n",
    "    \n",
    "    \"\"\" Get game data (last 10 ranked games) per user\n",
    "    \n",
    "        See: git issue ...\n",
    "        Note: normally this would pose an error for unranked players;\n",
    "        however, by looking @ usernames.iypnb we can confirm\n",
    "        that we only track user IDs for currently ranked players\n",
    "        who own a division. By default, this means they've played 10 \n",
    "        games (placements).\n",
    "    \"\"\"   \n",
    "        \n",
    "    recency = payload['lastInfo']\n",
    "    #Convert UTC -> readable date\n",
    "    readable_date = datetime.utcfromtimestamp(recency).strftime('%Y-%m-%d %H:%M:%S')\n",
    "\n",
    "    #Parse HTML contained in XHR requests\n",
    "    \n",
    "    soup = BeautifulSoup(payload['html'])\n",
    "    games = soup.find_all(\"div\", {\"class\": \"GameItemList\"})\n",
    "    \n",
    "    p = PageParser()\n",
    "    d = p.parse_page(games)\n",
    "    \n",
    "    d['last_updated'] = readable_date\n",
    "    d['user_name'] = user_name\n",
    "    \n",
    "    df = pd.DataFrame.from_dict(d)\n",
    "    \n",
    "    return df"
   ]
  },
  {
   "cell_type": "markdown",
   "id": "25bad0c5",
   "metadata": {},
   "source": [
    "## Load Data"
   ]
  },
  {
   "cell_type": "code",
   "execution_count": 5,
   "id": "fb65ca56",
   "metadata": {},
   "outputs": [
    {
     "data": {
      "text/plain": [
       "'C:\\\\Users\\\\yeqiu\\\\Desktop\\\\liam.gg\\\\v0.0.0'"
      ]
     },
     "execution_count": 5,
     "metadata": {},
     "output_type": "execute_result"
    }
   ],
   "source": [
    "os.path.abspath('')"
   ]
  },
  {
   "cell_type": "code",
   "execution_count": 6,
   "id": "143e81f9",
   "metadata": {},
   "outputs": [
    {
     "name": "stdout",
     "output_type": "stream",
     "text": [
      "s2-user_ids_20210927.csv\n"
     ]
    },
    {
     "data": {
      "text/plain": [
       "'C:\\\\Users\\\\yeqiu\\\\Desktop\\\\liam.gg\\\\v0.0.0\\\\..\\\\data\\\\s2-user_ids_20210927.csv'"
      ]
     },
     "execution_count": 6,
     "metadata": {},
     "output_type": "execute_result"
    }
   ],
   "source": [
    "search_params = 's2-user_ids'\n",
    "fldr = os.path.join(os.path.abspath(''), '..', 'data')\n",
    "\n",
    "for f in os.listdir(fldr):\n",
    "    \n",
    "    if search_params in f:\n",
    "        \n",
    "        print(f)\n",
    "        fp = os.path.join(fldr, f)\n",
    "\n",
    "fp"
   ]
  },
  {
   "cell_type": "code",
   "execution_count": 7,
   "id": "12cf1d87",
   "metadata": {},
   "outputs": [],
   "source": [
    "df = pd.read_csv(fp)"
   ]
  },
  {
   "cell_type": "code",
   "execution_count": 8,
   "id": "7098c8f1",
   "metadata": {},
   "outputs": [
    {
     "data": {
      "text/plain": [
       "43263"
      ]
     },
     "execution_count": 8,
     "metadata": {},
     "output_type": "execute_result"
    }
   ],
   "source": [
    "df.user_id.nunique()"
   ]
  },
  {
   "cell_type": "code",
   "execution_count": 9,
   "id": "51cf01e2",
   "metadata": {},
   "outputs": [
    {
     "data": {
      "text/plain": [
       "(43265, 2)"
      ]
     },
     "execution_count": 9,
     "metadata": {},
     "output_type": "execute_result"
    }
   ],
   "source": [
    "df.shape"
   ]
  },
  {
   "cell_type": "code",
   "execution_count": 10,
   "id": "d4e841a3",
   "metadata": {},
   "outputs": [
    {
     "data": {
      "text/plain": [
       "43264"
      ]
     },
     "execution_count": 10,
     "metadata": {},
     "output_type": "execute_result"
    }
   ],
   "source": [
    "df.user_name.nunique()"
   ]
  },
  {
   "cell_type": "code",
   "execution_count": 11,
   "id": "b502297c",
   "metadata": {},
   "outputs": [],
   "source": [
    "def print_progress(iteration, total, prefix ='', suffix ='', decimals =1, length =100, fill ='█', printEnd=\"\\r\"):\n",
    "    percent = (\"{0:.\" + str(decimals) + \"f}\").format(100 * (iteration / float(total)))\n",
    "    filledLength = int(length * iteration // total)\n",
    "    bar = fill * filledLength + '-' * (length - filledLength)\n",
    "    print(f'\\r{prefix} |{bar}| {percent}% {suffix}', end =printEnd)\n",
    "\n",
    "    if iteration == total:\n",
    "        print()"
   ]
  },
  {
   "cell_type": "code",
   "execution_count": 12,
   "id": "746f941c",
   "metadata": {},
   "outputs": [
    {
     "name": "stdout",
     "output_type": "stream",
     "text": [
      " |----------------------------------------------------------------------------------------------------| 0.0% Complete\r"
     ]
    }
   ],
   "source": [
    "print_progress(0, len(df.user_id.values), prefix ='', suffix ='Complete')\n",
    "\n",
    "main =0\n",
    "\n",
    "for i, user_id in enumerate(df.user_id.values[:10]): \n",
    "    \n",
    "    user_name = df.iloc[i][\"user_name\"]\n",
    "    \n",
    "    if not np.isnan(user_id):\n",
    "        \n",
    "        #Build api endpoint \n",
    "        api_endpoint = build_api_endpoint(user_id)\n",
    "        \n",
    "        \n",
    "        #Fetch payload \n",
    "        #try: \n",
    "\n",
    "        r = requests.get(api_endpoint, headers=headers)\n",
    "\n",
    "        payload = json.loads(r.text)\n",
    "        game_df = parse(payload=payload,\n",
    "                   user_name=user_name)\n",
    "\n",
    "\n",
    "        #If first instantiate main as df\n",
    "        if not isinstance(main, pd.DataFrame): main = game_df\n",
    "        #If not append df as row to main dataframe\n",
    "        else: main.append(game_df)\n",
    "        #Rationale: easier to append to one dataframe than concat 43k dataframes in memory\n",
    "\n",
    "        if i%1000==0:          \n",
    "            print(\"Scraped {} of {}, {} remaining\".format(i,len(df.user_id.values),len(df.user_id.values)-i))\n",
    "\n",
    "        print_progress(i, len(df.user_id.values), prefix ='', suffix ='Complete')\n",
    "\n",
    "        #except: \n",
    "        \n",
    "        #    print(f'Error fetching {user_name} with id {user_id} @ {api_endpoint}') "
   ]
  }
 ],
 "metadata": {
  "kernelspec": {
   "display_name": "Python 3 (ipykernel)",
   "language": "python",
   "name": "python3"
  },
  "language_info": {
   "codemirror_mode": {
    "name": "ipython",
    "version": 3
   },
   "file_extension": ".py",
   "mimetype": "text/x-python",
   "name": "python",
   "nbconvert_exporter": "python",
   "pygments_lexer": "ipython3",
   "version": "3.9.7"
  }
 },
 "nbformat": 4,
 "nbformat_minor": 5
}
